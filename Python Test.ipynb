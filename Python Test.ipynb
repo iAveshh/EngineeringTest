{
 "cells": [
  {
   "cell_type": "code",
   "execution_count": 243,
   "metadata": {},
   "outputs": [],
   "source": [
    "\"\"\"\n",
    "@author: Avesh Mishra\n",
    "\"\"\"\n",
    "\n",
    "import pandas as pd\n",
    "import fnmatch\n",
    "import os"
   ]
  },
  {
   "cell_type": "code",
   "execution_count": 274,
   "metadata": {},
   "outputs": [],
   "source": [
    "def Test_Function(filelocation, combinefile):\n",
    "# Comments\n",
    "#filelocation = \"C:\\Users\\avesh\\Downloads\\New folder (4)\\Engineering Test\\Engineering Test Files\"\n",
    "#combinefile = \"Combined.csv\"\n",
    "\n",
    "    CombineFileLoc = filelocation+\"\\\\\"+combinefile\n",
    "\n",
    "#Delete existing combine CSV file\n",
    "    if(os.path.exists(CombineFileLoc) and os.path.isfile(CombineFileLoc)): \n",
    "        os.remove(CombineFileLoc) \n",
    "        print(\"Combined CSV file deleted\") \n",
    "    else: \n",
    "        print(\"file not found\")\n",
    "\n",
    "#Read Data Content in the file\n",
    "    Filenames = os.listdir(filelocation)\n",
    "\n",
    "    dfs_combined = []\n",
    "    source_column = ['Source IP']\n",
    "    for name in Filenames:\n",
    "        if fnmatch.fnmatch(name, 'Asia*.csv'):\n",
    "            Environment = \"Asia Prod\"\n",
    "            df = pd.read_csv (filelocation+'\\\\'+ name,usecols = source_column)\n",
    "            df['Environment'] = Environment\n",
    "        elif fnmatch.fnmatch(name, 'NA*.csv'):\n",
    "            Environment = \"NA Prod\"\n",
    "            df = pd.read_csv (filelocation+'\\\\'+ name,usecols = source_column)\n",
    "            df['Environment'] = Environment\n",
    "\n",
    "        else:        \n",
    "            dfs_combined.append(pd.read_csv(os.path.join(filelocation,name)))\n",
    "        \n",
    "        dfs_combined.append(df)    \n",
    "\n",
    "#concating the dataframe,Sorting and Droping Duplicates\n",
    "    dfFinalCombined = pd.concat(dfs_combined)\n",
    "\n",
    "    dfFinalCombined.sort_values(by= source_column,inplace = True)\n",
    "    dfFinalCombined = dfFinalCombined.drop_duplicates()\n",
    "#Export the dataframe as CSV\n",
    "    dfFinalCombined.to_csv(filelocation + '\\\\' + combinefile,index=False)\n",
    "    print(\"Exported as CSV to \" + CombineFileLoc)\n",
    "    "
   ]
  },
  {
   "cell_type": "code",
   "execution_count": 275,
   "metadata": {},
   "outputs": [
    {
     "name": "stdout",
     "output_type": "stream",
     "text": [
      "Combined CSV file deleted\n",
      "Exported as CSV to C:\\Users\\avesh\\Downloads\\New folder (4)\\Engineering Test\\Engineering Test Files\\Combined.csv\n"
     ]
    }
   ],
   "source": [
    "Test_Function(r\"C:\\Users\\avesh\\Downloads\\New folder (4)\\Engineering Test\\Engineering Test Files\",\"Combined.csv\")"
   ]
  },
  {
   "cell_type": "code",
   "execution_count": null,
   "metadata": {},
   "outputs": [],
   "source": []
  }
 ],
 "metadata": {
  "kernelspec": {
   "display_name": "Python 3",
   "language": "python",
   "name": "python3"
  },
  "language_info": {
   "codemirror_mode": {
    "name": "ipython",
    "version": 3
   },
   "file_extension": ".py",
   "mimetype": "text/x-python",
   "name": "python",
   "nbconvert_exporter": "python",
   "pygments_lexer": "ipython3",
   "version": "3.7.6"
  }
 },
 "nbformat": 4,
 "nbformat_minor": 4
}
